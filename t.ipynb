{
 "cells": [
  {
   "cell_type": "code",
   "execution_count": 38,
   "metadata": {},
   "outputs": [],
   "source": [
    "import pandas as pd\n",
    "import itertools\n",
    "import json\n",
    "\n",
    "df = pd.read_excel(\"Dannye_Pod_Gruppirovku_vuzov.xlsx\")\n",
    "directions = [\"Вуз\", \"Форма обучения\", \"Способ финансирования\", \"Направление\"]\n",
    "value_column = \"Количество\""
   ]
  },
  {
   "cell_type": "code",
   "execution_count": 39,
   "metadata": {},
   "outputs": [
    {
     "data": {
      "text/html": [
       "<div>\n",
       "<style scoped>\n",
       "    .dataframe tbody tr th:only-of-type {\n",
       "        vertical-align: middle;\n",
       "    }\n",
       "\n",
       "    .dataframe tbody tr th {\n",
       "        vertical-align: top;\n",
       "    }\n",
       "\n",
       "    .dataframe thead th {\n",
       "        text-align: right;\n",
       "    }\n",
       "</style>\n",
       "<table border=\"1\" class=\"dataframe\">\n",
       "  <thead>\n",
       "    <tr style=\"text-align: right;\">\n",
       "      <th></th>\n",
       "      <th>Вуз</th>\n",
       "      <th>Форма обучения</th>\n",
       "      <th>Способ финансирования</th>\n",
       "      <th>Направление</th>\n",
       "      <th>Количество</th>\n",
       "    </tr>\n",
       "  </thead>\n",
       "  <tbody>\n",
       "    <tr>\n",
       "      <th>0</th>\n",
       "      <td>РГРТУ</td>\n",
       "      <td>Очная</td>\n",
       "      <td>Бюджет</td>\n",
       "      <td>Радиотехника</td>\n",
       "      <td>75</td>\n",
       "    </tr>\n",
       "    <tr>\n",
       "      <th>1</th>\n",
       "      <td>РГРТУ</td>\n",
       "      <td>Очная</td>\n",
       "      <td>Коммерческий</td>\n",
       "      <td>Радиотехника</td>\n",
       "      <td>15</td>\n",
       "    </tr>\n",
       "    <tr>\n",
       "      <th>2</th>\n",
       "      <td>РГРТУ</td>\n",
       "      <td>Очно-заочная</td>\n",
       "      <td>Бюджет</td>\n",
       "      <td>Государственное и муниципальное управление</td>\n",
       "      <td>6</td>\n",
       "    </tr>\n",
       "    <tr>\n",
       "      <th>3</th>\n",
       "      <td>РГРТУ</td>\n",
       "      <td>Очно-заочная</td>\n",
       "      <td>Коммерческий</td>\n",
       "      <td>Государственное и муниципальное управление</td>\n",
       "      <td>80</td>\n",
       "    </tr>\n",
       "    <tr>\n",
       "      <th>4</th>\n",
       "      <td>РГРТУ</td>\n",
       "      <td>Заочная</td>\n",
       "      <td>Бюджет</td>\n",
       "      <td>Конструирование и технология электронных средств</td>\n",
       "      <td>20</td>\n",
       "    </tr>\n",
       "    <tr>\n",
       "      <th>...</th>\n",
       "      <td>...</td>\n",
       "      <td>...</td>\n",
       "      <td>...</td>\n",
       "      <td>...</td>\n",
       "      <td>...</td>\n",
       "    </tr>\n",
       "    <tr>\n",
       "      <th>76</th>\n",
       "      <td>МГТУ Станкин</td>\n",
       "      <td>Очная</td>\n",
       "      <td>Коммерция</td>\n",
       "      <td>Информатика и вычислительная техника</td>\n",
       "      <td>25</td>\n",
       "    </tr>\n",
       "    <tr>\n",
       "      <th>77</th>\n",
       "      <td>МГТУ Станкин</td>\n",
       "      <td>Заочная</td>\n",
       "      <td>Бюджет</td>\n",
       "      <td>Экономика</td>\n",
       "      <td>7</td>\n",
       "    </tr>\n",
       "    <tr>\n",
       "      <th>78</th>\n",
       "      <td>МГТУ Станкин</td>\n",
       "      <td>Заочная</td>\n",
       "      <td>Коммерция</td>\n",
       "      <td>Экономика</td>\n",
       "      <td>35</td>\n",
       "    </tr>\n",
       "    <tr>\n",
       "      <th>79</th>\n",
       "      <td>МГТУ Станкин</td>\n",
       "      <td>Очно-заочная</td>\n",
       "      <td>Бюджет</td>\n",
       "      <td>Менеджмент</td>\n",
       "      <td>10</td>\n",
       "    </tr>\n",
       "    <tr>\n",
       "      <th>80</th>\n",
       "      <td>МГТУ Станкин</td>\n",
       "      <td>Очно-заочная</td>\n",
       "      <td>Коммерция</td>\n",
       "      <td>Менеджмент</td>\n",
       "      <td>40</td>\n",
       "    </tr>\n",
       "  </tbody>\n",
       "</table>\n",
       "<p>81 rows × 5 columns</p>\n",
       "</div>"
      ],
      "text/plain": [
       "             Вуз Форма обучения Способ финансирования  \\\n",
       "0          РГРТУ          Очная                Бюджет   \n",
       "1          РГРТУ          Очная          Коммерческий   \n",
       "2          РГРТУ   Очно-заочная                Бюджет   \n",
       "3          РГРТУ   Очно-заочная          Коммерческий   \n",
       "4          РГРТУ        Заочная                Бюджет   \n",
       "..           ...            ...                   ...   \n",
       "76  МГТУ Станкин          Очная             Коммерция   \n",
       "77  МГТУ Станкин        Заочная                Бюджет   \n",
       "78  МГТУ Станкин        Заочная             Коммерция   \n",
       "79  МГТУ Станкин   Очно-заочная                Бюджет   \n",
       "80  МГТУ Станкин   Очно-заочная             Коммерция   \n",
       "\n",
       "                                         Направление  Количество  \n",
       "0                                       Радиотехника          75  \n",
       "1                                       Радиотехника          15  \n",
       "2         Государственное и муниципальное управление           6  \n",
       "3         Государственное и муниципальное управление          80  \n",
       "4   Конструирование и технология электронных средств          20  \n",
       "..                                               ...         ...  \n",
       "76              Информатика и вычислительная техника          25  \n",
       "77                                         Экономика           7  \n",
       "78                                         Экономика          35  \n",
       "79                                        Менеджмент          10  \n",
       "80                                        Менеджмент          40  \n",
       "\n",
       "[81 rows x 5 columns]"
      ]
     },
     "execution_count": 39,
     "metadata": {},
     "output_type": "execute_result"
    }
   ],
   "source": [
    "df"
   ]
  },
  {
   "cell_type": "code",
   "execution_count": 21,
   "metadata": {},
   "outputs": [
    {
     "data": {
      "text/plain": [
       "['Радиотехника', 'Бюджет']"
      ]
     },
     "execution_count": 21,
     "metadata": {},
     "output_type": "execute_result"
    }
   ],
   "source": [
    "df[directions][[\"Направление\", \"Способ финансирования\"]].iloc[0].to_list()"
   ]
  },
  {
   "cell_type": "code",
   "execution_count": 40,
   "metadata": {},
   "outputs": [],
   "source": [
    "import json\n",
    "import itertools\n",
    "lst = []\n",
    "\n",
    "def recursive_df_grouper(df, cols, name):\n",
    "    if len(df) == 1 or len(cols) == 0:\n",
    "        vl = df.iloc[0]\n",
    "        return {\n",
    "            \"name\": \"Количество \" + \", \".join([name[1]] + df[directions][cols].iloc[0].to_list()),\n",
    "            \"value\": int(vl[value_column])\n",
    "        }\n",
    "    else:\n",
    "        return {\n",
    "            \"name\": \" \".join(name),\n",
    "            \"children\": [\n",
    "                recursive_df_grouper(dfn, cols[1:], [\"Группировка по\", nm])\n",
    "                for nm, dfn in df.groupby(cols[0])\n",
    "            ]\n",
    "        }\n",
    "\n",
    "with open(\"rs.json\", \"w\", encoding=\"utf8\") as f:\n",
    "    json.dump({\n",
    "        \"name\": \"Наборы группировок\\n\" + \",\\n\".join(directions),\n",
    "        \"children\": [\n",
    "            recursive_df_grouper(df, list(map(lambda x: x[1], var)), [\"Набор группировки по\", \", \".join(list(map(lambda x: str(x[1]), var)))])\n",
    "            for var in itertools.permutations(list(enumerate(directions)))\n",
    "        ]\n",
    "    }, f)"
   ]
  },
  {
   "cell_type": "code",
   "execution_count": 30,
   "metadata": {},
   "outputs": [
    {
     "data": {
      "text/plain": [
       "{'name': 'Набор группировки по Вуз, Форма обучения, Способ финансирования, Направление',\n",
       " 'children': [{'name': 'Группировка по РГРТУ',\n",
       "   'children': [{'name': 'Группировка по Заочная',\n",
       "     'children': [{'name': 'Количество Бюджет, Конструирование и технология электронных средств',\n",
       "       'value': 20},\n",
       "      {'name': 'Количество Коммерческий, Конструирование и технология электронных средств',\n",
       "       'value': 25}]},\n",
       "    {'name': 'Группировка по Очная',\n",
       "     'children': [{'name': 'Количество Бюджет, Радиотехника', 'value': 75},\n",
       "      {'name': 'Количество Коммерческий, Радиотехника', 'value': 15}]},\n",
       "    {'name': 'Группировка по Очно-заочная',\n",
       "     'children': [{'name': 'Количество Бюджет, Государственное и муниципальное управление',\n",
       "       'value': 6},\n",
       "      {'name': 'Количество Коммерческий, Государственное и муниципальное управление',\n",
       "       'value': 80}]}]}]}"
      ]
     },
     "execution_count": 30,
     "metadata": {},
     "output_type": "execute_result"
    }
   ],
   "source": [
    "recursive_df_grouper(df, directions, [\"Набор группировки по\", \", \".join(directions)])"
   ]
  },
  {
   "cell_type": "code",
   "execution_count": 29,
   "metadata": {},
   "outputs": [
    {
     "data": {
      "text/plain": [
       "'Набор группировки по Вуз, Форма обучения, Способ финансирования, Направление'"
      ]
     },
     "execution_count": 29,
     "metadata": {},
     "output_type": "execute_result"
    }
   ],
   "source": [
    "\" \".join([\"Набор группировки по\", \", \".join(directions)])"
   ]
  }
 ],
 "metadata": {
  "kernelspec": {
   "display_name": "Python 3.9.6 64-bit ('Python')",
   "language": "python",
   "name": "python3"
  },
  "language_info": {
   "codemirror_mode": {
    "name": "ipython",
    "version": 3
   },
   "file_extension": ".py",
   "mimetype": "text/x-python",
   "name": "python",
   "nbconvert_exporter": "python",
   "pygments_lexer": "ipython3",
   "version": "3.9.6"
  },
  "orig_nbformat": 4,
  "vscode": {
   "interpreter": {
    "hash": "2469a70536e4d2335a2ea8907942d0699c37342a371ac185bdb5b0aa6f073890"
   }
  }
 },
 "nbformat": 4,
 "nbformat_minor": 2
}
